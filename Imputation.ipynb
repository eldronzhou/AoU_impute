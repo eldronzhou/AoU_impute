{
 "cells": [
  {
   "cell_type": "code",
   "execution_count": 4,
   "metadata": {},
   "outputs": [
    {
     "name": "stderr",
     "output_type": "stream",
     "text": [
      "Installing packages into ‘/home/jupyter/packages’\n",
      "(as ‘lib’ is unspecified)\n",
      "\n",
      "also installing the dependency ‘iterators’\n",
      "\n",
      "\n"
     ]
    }
   ],
   "source": [
    "install.packages(c(\"doParallel\", \"foreach\"))"
   ]
  },
  {
   "cell_type": "code",
   "execution_count": 1,
   "metadata": {},
   "outputs": [
    {
     "name": "stderr",
     "output_type": "stream",
     "text": [
      "Loading required package: iterators\n",
      "\n",
      "Loading required package: parallel\n",
      "\n"
     ]
    }
   ],
   "source": [
    "library(foreach)\n",
    "library(doParallel)"
   ]
  },
  {
   "cell_type": "code",
   "execution_count": 1,
   "metadata": {},
   "outputs": [],
   "source": [
    "start_time = Sys.time()"
   ]
  },
  {
   "cell_type": "code",
   "execution_count": 3,
   "metadata": {},
   "outputs": [],
   "source": [
    "threads = 16\n",
    "cl = makeCluster(threads)\n",
    "registerDoParallel(cl)\n",
    "\n",
    "options(scipen=999)\n",
    "\n",
    "chr = 22 \n",
    "\n",
    "window_eagle = 5e6\n",
    "window_minimac = 500000\n",
    "chunk_size = 20e4\n",
    "\n",
    "target_vcf = paste0(\"chr\", chr, \"/arrays_QCed-updated-chr\", chr, \".vcf.gz\")\n",
    "bim = paste0(\"chr\", chr, \"/arrays_QCed-updated-chr\",chr,\".bim\")\n",
    "bcf_ref = paste0(\"ref/eur_bcfs/ALL.chr\", chr, \".phase3_v5.shapeit2_mvncall_integrated.noSingleton.genotypes.recode.bcf\")\n",
    "gen_map = \"ref/map/genetic_map_hg19_withX.txt.gz\"\n",
    "m3vcf = paste0(\"ref/m3vcfs/\", chr, \".1000g.Phase3.v5.With.Parameter.Estimates.msav\")\n",
    "id_file = \"ref/EUR.sample\""
   ]
  },
  {
   "cell_type": "markdown",
   "metadata": {},
   "source": [
    "# Split chunk"
   ]
  },
  {
   "cell_type": "code",
   "execution_count": 4,
   "metadata": {},
   "outputs": [
    {
     "name": "stdout",
     "output_type": "stream",
     "text": [
      "[1] 169\n"
     ]
    }
   ],
   "source": [
    "a = read.table(bim)\n",
    "\n",
    "bp = seq(min(a$V4), max(a$V4), by=chunk_size)\n",
    "\n",
    "if (tail(bp, 1) != max(a$V4)) {\n",
    "    bp = c(bp, max(a$V4))\n",
    "}\n",
    "\n",
    "\n",
    "skip_start = FALSE\n",
    "start_list = NULL\n",
    "end_list = NULL\n",
    "\n",
    "for (i in 1:(length(bp)-1)) {\n",
    "\n",
    "    if (!skip_start) {\n",
    "        start = bp[i]\n",
    "    }\n",
    "\n",
    "    if (i == (length(bp)-1)) {\n",
    "        end = bp[i+1]\n",
    "    } else {\n",
    "        end = bp[i+1] -1\n",
    "    }\n",
    "\n",
    "    n_snp = sum(a$V4 >= start & a$V4 <= end)\n",
    "\n",
    "    if (n_snp < 3 & i != (length(bp)-1)) {\n",
    "        skip_start = TRUE\n",
    "        next\n",
    "    } else if (n_snp < 3 & i == (length(bp)-1)) {\n",
    "        end_list[length(end_list)] = end\n",
    "    } else {\n",
    "        skip_start = FALSE\n",
    "        start_list = c(start_list, start)\n",
    "        end_list = c(end_list, end)\n",
    "    }\n",
    "}\n",
    "\n",
    "print(length(start_list))"
   ]
  },
  {
   "cell_type": "markdown",
   "metadata": {},
   "source": [
    "# Phasing and Imputation"
   ]
  },
  {
   "cell_type": "code",
   "execution_count": 5,
   "metadata": {},
   "outputs": [],
   "source": [
    "res = foreach(i=1:length(start_list)) %dopar% {\n",
    "    start = start_list[i]\n",
    "    end = end_list[i]\n",
    "    prefix = paste0(\"chr\", chr, \"/chunk_\", i, \"_\", start, \"_\", end)\n",
    "\n",
    "    # subset to chunk\n",
    "    system(paste0(\"bcftools view -r \", chr, \":\", start, \"-\", end, \" \", target_vcf, \" -Oz -o \", prefix, \".vcf.gz\"))\n",
    "    system(paste0(\"tabix \", prefix, \".vcf.gz\"))\n",
    "\n",
    "    # phasing\n",
    "    system(paste0(\"Eagle_v2.4.1/eagle --pbwtIters 1 --chrom \", chr, \" --vcfRef \", bcf_ref, \" --vcfTarget \",  prefix, \".vcf.gz --geneticMapFile \", gen_map, \" --outPrefix \", prefix, \".phased --bpStart \", start, \" --bpEnd \", end, \" --bpFlanking \", window_eagle, \" --allowRefAltSwap --vcfOutFormat z 2> chr\", chr, \"/err\", i, \".log 1> chr\", chr, \"/out\", i, \".log\"))\n",
    "    system(paste0(\"tabix \", prefix, \".phased.vcf.gz\"))\n",
    "\n",
    "    # imputation\n",
    "    system(paste0(\"Minimac4/bin/minimac4 --threads 1 --min-r2 0.3 --overlap 500000 --format GT,DS,GP --all-typed-sites -O vcf.gz --min-ratio 0.00001 --sample-ids-file \", id_file, \" --region \", chr, \":\", start, \"-\", end, \" -o \", prefix, \".dose.vcf.gz \", m3vcf, \" \", prefix, \".phased.vcf.gz 2>> chr\", chr, \"/out\", i, \".log\"))\n",
    "    system(paste0(\"tabix \", prefix, \".dose.vcf.gz\"))\n",
    "\n",
    "    # clean up\n",
    "    system(paste0(\"rm -f \", prefix, \".vcf.gz*\"))\n",
    "    system(paste0(\"rm -f \", prefix, \".phased.vcf.gz*\"))\n",
    "    system(paste0(\"rm -f chr\", chr, \"/*\", i, \".log\"))\n",
    "}\n",
    "\n",
    "stopCluster(cl)"
   ]
  },
  {
   "cell_type": "markdown",
   "metadata": {},
   "source": [
    "# Merge all files"
   ]
  },
  {
   "cell_type": "code",
   "execution_count": 27,
   "metadata": {},
   "outputs": [],
   "source": [
    "files = list.files(paste0(\"chr\", chr), \"*.dose.vcf.gz$\", full.names=T)\n",
    "files = sort(files)\n",
    "system(paste0(\"bcftools concat \", paste0(files, collapse=\" \"), \" -O z -o chr\", chr, \"/chr\", chr, \".vcf.gz --threads \", threads))\n",
    "system(paste0(\"tabix chr \", chr, \"/chr\", chr, \".vcf.gz\"))\n",
    "system(paste0(\"rm -f chr\", chr, \"/*.dose.vcf.gz*\"))"
   ]
  },
  {
   "cell_type": "code",
   "execution_count": 2,
   "metadata": {},
   "outputs": [],
   "source": [
    "end_time = Sys.time()"
   ]
  },
  {
   "cell_type": "code",
   "execution_count": 3,
   "metadata": {},
   "outputs": [
    {
     "name": "stdout",
     "output_type": "stream",
     "text": [
      "Time difference of 9.920631 secs\n"
     ]
    }
   ],
   "source": [
    "print(end_time - start_time)"
   ]
  },
  {
   "cell_type": "code",
   "execution_count": null,
   "metadata": {},
   "outputs": [],
   "source": []
  }
 ],
 "metadata": {
  "kernelspec": {
   "display_name": "R",
   "language": "R",
   "name": "ir"
  },
  "language_info": {
   "codemirror_mode": "r",
   "file_extension": ".r",
   "mimetype": "text/x-r-source",
   "name": "R",
   "pygments_lexer": "r",
   "version": "4.2.2"
  },
  "toc": {
   "base_numbering": 1,
   "nav_menu": {},
   "number_sections": true,
   "sideBar": true,
   "skip_h1_title": false,
   "title_cell": "Table of Contents",
   "title_sidebar": "Contents",
   "toc_cell": false,
   "toc_position": {},
   "toc_section_display": true,
   "toc_window_display": false
  }
 },
 "nbformat": 4,
 "nbformat_minor": 2
}
